{
  "nbformat": 4,
  "nbformat_minor": 0,
  "metadata": {
    "colab": {
      "name": "DeteksiKankerKulit_Cnn_MbkmRiset.ipynb",
      "provenance": [],
      "collapsed_sections": [],
      "authorship_tag": "ABX9TyML/qQVr7qm+jGgPkWddFY7",
      "include_colab_link": true
    },
    "kernelspec": {
      "name": "python3",
      "display_name": "Python 3"
    },
    "language_info": {
      "name": "python"
    },
    "accelerator": "GPU"
  },
  "cells": [
    {
      "cell_type": "markdown",
      "metadata": {
        "id": "view-in-github",
        "colab_type": "text"
      },
      "source": [
        "<a href=\"https://colab.research.google.com/github/adindaayundra/DeteksiKankerKulit-MBKM-Riset/blob/main/DeteksiKankerKulit_Cnn_MbkmRiset.ipynb\" target=\"_parent\"><img src=\"https://colab.research.google.com/assets/colab-badge.svg\" alt=\"Open In Colab\"/></a>"
      ]
    },
    {
      "cell_type": "markdown",
      "metadata": {
        "id": "yBk9msH9LQNc"
      },
      "source": [
        "# **Persiapan Data (Data Preparation)**\n",
        "\n",
        "Import Libraries"
      ]
    },
    {
      "cell_type": "code",
      "metadata": {
        "id": "pxW4hfM7LeVK"
      },
      "source": [
        "import pandas as pd\n",
        "import numpy as np\n",
        "import seaborn as sns\n",
        "import shutil\n",
        "import os\n",
        "import pathlib\n",
        "import matplotlib.pyplot as plt\n",
        "\n",
        "import tensorflow as tf\n",
        "from tensorflow.keras.preprocessing.image import ImageDataGenerator\n",
        "from tensorflow.keras.applications import MobileNetV2\n",
        "\n",
        "import tensorflow.keras as keras\n",
        "from tensorflow.keras.models import Model, Sequential\n",
        "from tensorflow.keras.layers import GlobalAveragePooling2D, Dense, Dropout, BatchNormalization, Activation, Conv2D, MaxPooling2D"
      ],
      "execution_count": null,
      "outputs": []
    },
    {
      "cell_type": "code",
      "metadata": {
        "id": "_FjiXKIANfD_"
      },
      "source": [
        "# Memasukkan lokasi Dataset Jenis Kanker Kulit\n",
        "\n",
        "from google.colab import drive\n",
        "drive.mount('/content/gdrive')\n",
        "\n",
        "Mounted at /content/gdrive\n"
      ],
      "execution_count": null,
      "outputs": []
    },
    {
      "cell_type": "code",
      "metadata": {
        "id": "QNyVbANvOYm-"
      },
      "source": [
        "!ls \"/content/gdrive/My Drive/project_mbkmriset/dataset\""
      ],
      "execution_count": null,
      "outputs": []
    },
    {
      "cell_type": "code",
      "metadata": {
        "id": "PICvK11RPCOt"
      },
      "source": [
        "path = \"/content/gdrive/My Drive/project_mbkmriset/dataset\""
      ],
      "execution_count": null,
      "outputs": []
    },
    {
      "cell_type": "code",
      "metadata": {
        "id": "AwDWQETuPKIR"
      },
      "source": [
        "df = pd.read_csv(\"/content/gdrive/My Drive/project_mbkmriset/dataset/.....\")  #belum lengkap, mohon dilengkapi\n",
        "df.head()"
      ],
      "execution_count": null,
      "outputs": []
    },
    {
      "cell_type": "markdown",
      "metadata": {
        "id": "TjOdww2ePicp"
      },
      "source": [
        "\n",
        "* Identifikasi dan Menghapus Duplikat\n",
        " \n",
        "  (Identify and Remove Duplicates)\n"
      ]
    },
    {
      "cell_type": "code",
      "metadata": {
        "id": "CF8chFJEP0bX"
      },
      "source": [
        "df.drop_duplicates(inplace=True)"
      ],
      "execution_count": null,
      "outputs": []
    },
    {
      "cell_type": "markdown",
      "metadata": {
        "id": "CyfBCDkkQHLc"
      },
      "source": [
        "\n",
        "*   **Pembersihan Data**\n",
        "\n",
        "    (Data Cleaning)\n"
      ]
    },
    {
      "cell_type": "code",
      "metadata": {
        "id": "pDISKZDWQTIO"
      },
      "source": [
        "df.isnull().sum()"
      ],
      "execution_count": null,
      "outputs": []
    },
    {
      "cell_type": "markdown",
      "metadata": {
        "id": "lkZ-usfWQcDE"
      },
      "source": [
        "\n",
        "*   Menangani Masalah \n",
        "\n",
        "    (Handling the Problem) :\n",
        "\n",
        " 1. Detecting \"Na\" and \"na\" Values\n",
        " 2. Fill na Values with Mean of \"age\" Column\n"
      ]
    },
    {
      "cell_type": "markdown",
      "metadata": {
        "id": "UmURPobkSx4y"
      },
      "source": [
        "1. Detecting \"Na\" and \"na\" Values"
      ]
    },
    {
      "cell_type": "code",
      "metadata": {
        "id": "A1pnKNaPQnVp"
      },
      "source": [
        "missing_value = ['N/a', 'na', ' ', np.nan]\n",
        "df = pd.read_csv(\"/content/gdrive/My Drive/project_mbkmriset/dataset/.....\", na_values=missing_value)"
      ],
      "execution_count": null,
      "outputs": []
    },
    {
      "cell_type": "code",
      "metadata": {
        "id": "QKov0Qk1SaLi"
      },
      "source": [
        "df.isnull().sum()"
      ],
      "execution_count": null,
      "outputs": []
    },
    {
      "cell_type": "code",
      "metadata": {
        "id": "ncEFAnlgSexC"
      },
      "source": [
        "df.isnull().any()"
      ],
      "execution_count": null,
      "outputs": []
    },
    {
      "cell_type": "code",
      "metadata": {
        "id": "osEVyPeYSkVB"
      },
      "source": [
        "sns.heatmap(df.isnull(), yticklabels=False)"
      ],
      "execution_count": null,
      "outputs": []
    },
    {
      "cell_type": "markdown",
      "metadata": {
        "id": "jnp1OOa0TKEl"
      },
      "source": [
        "2. Fill na Values with Mean of \"age\" Column"
      ]
    },
    {
      "cell_type": "code",
      "metadata": {
        "id": "ZOehRAaVTUQG"
      },
      "source": [
        "df['age'].fillna((df['age'].mean()), inplace=True)"
      ],
      "execution_count": null,
      "outputs": []
    },
    {
      "cell_type": "code",
      "metadata": {
        "id": "heF3wFaRTjQk"
      },
      "source": [
        "df.isnull().sum()"
      ],
      "execution_count": null,
      "outputs": []
    },
    {
      "cell_type": "markdown",
      "metadata": {
        "id": "vOetVq-eUCFb"
      },
      "source": [
        "Exploratory Data Analysis"
      ]
    },
    {
      "cell_type": "code",
      "metadata": {
        "id": "FbroxSpSUHFs"
      },
      "source": [
        "df.dtypes"
      ],
      "execution_count": null,
      "outputs": []
    },
    {
      "cell_type": "code",
      "metadata": {
        "id": "jX9j-fHOULe4"
      },
      "source": [
        "df.info()"
      ],
      "execution_count": null,
      "outputs": []
    },
    {
      "cell_type": "code",
      "metadata": {
        "id": "k5xMgxd3UNJV"
      },
      "source": [
        "sns.countplot(df['dx'])"
      ],
      "execution_count": null,
      "outputs": []
    },
    {
      "cell_type": "code",
      "metadata": {
        "id": "ITgeuEMqC0Wz"
      },
      "source": [
        "dx = df['dx'].value_counts().sort_index()\n",
        "print(dx)"
      ],
      "execution_count": null,
      "outputs": []
    },
    {
      "cell_type": "code",
      "metadata": {
        "id": "oMW0ye9VC-d2"
      },
      "source": [
        "plt.figure(figsize = (10,8))\n",
        "sns.countplot(df['localization'])\n",
        "plt.xticks(rotation = 90)"
      ],
      "execution_count": null,
      "outputs": []
    },
    {
      "cell_type": "code",
      "metadata": {
        "id": "K4FlRZ8NDUcu"
      },
      "source": [
        "sns.countplot(df['dx_type'])"
      ],
      "execution_count": null,
      "outputs": []
    },
    {
      "cell_type": "code",
      "metadata": {
        "id": "UO4eGFwsDbeO"
      },
      "source": [
        "dx_type = df['dx_type'].value_counts().sort_index()\n",
        "print(dx_type)"
      ],
      "execution_count": null,
      "outputs": []
    },
    {
      "cell_type": "code",
      "metadata": {
        "id": "2obn12bQDneA"
      },
      "source": [
        "sns.countplot(df['sex'])"
      ],
      "execution_count": null,
      "outputs": []
    },
    {
      "cell_type": "code",
      "metadata": {
        "id": "SbexpmttDuff"
      },
      "source": [
        "sex = df['sex'].value_counts().sort_index()\n",
        "print(sex)"
      ],
      "execution_count": null,
      "outputs": []
    },
    {
      "cell_type": "code",
      "metadata": {
        "id": "WLXtq0jyD53y"
      },
      "source": [
        "plt.figure(figsize = (12,6))\n",
        "sns.countplot(df['age'])\n",
        "plt.xticks(rotation = 90)"
      ],
      "execution_count": null,
      "outputs": []
    },
    {
      "cell_type": "code",
      "metadata": {
        "id": "8JNQuvp8EOS8"
      },
      "source": [
        "age = df['age'].value_counts().sort_index()\n",
        "print(age)"
      ],
      "execution_count": null,
      "outputs": []
    },
    {
      "cell_type": "markdown",
      "metadata": {
        "id": "ji0LOZWLEhOS"
      },
      "source": [
        "\n",
        "*   Record the Label Names\n",
        "\n"
      ]
    },
    {
      "cell_type": "code",
      "metadata": {
        "id": "uFatCkADFJJB"
      },
      "source": [
        "labels = ['Actinic Keratoses',\n",
        "          'Basal Cell Carcinoma',\n",
        "          'Benign Keratosis',\n",
        "          'Dermatofibroma',\n",
        "          'Melanocytic Nevi',\n",
        "          'Melanoma',\n",
        "          'Vascular Skin Lesions']\n",
        "\n",
        "num_classes = len(labels)\n",
        "print(num_classes)"
      ],
      "execution_count": null,
      "outputs": []
    },
    {
      "cell_type": "markdown",
      "metadata": {
        "id": "eGkXxxbJKMO6"
      },
      "source": [
        "\n",
        "*   Create Local Data Directory\n",
        "\n"
      ]
    },
    {
      "cell_type": "code",
      "metadata": {
        "id": "ydVTxu2fKWmX"
      },
      "source": [
        "data_dir = 'data'\n",
        "os.mkdir(data_dir)\n",
        "\n",
        "train_dir = os.path.join(data_dir, 'train')\n",
        "os.mkdir(train_dir)\n",
        "\n",
        "val_dir = os.path.join(data_dir, 'val')\n",
        "os.mkdir(val_dir)\n",
        "\n",
        "test_dir = os.path.join(data_dir, 'test')\n",
        "os.mkdir(test_dir)"
      ],
      "execution_count": null,
      "outputs": []
    },
    {
      "cell_type": "markdown",
      "metadata": {
        "id": "knToLV1vLH5A"
      },
      "source": [
        "\n",
        "\n",
        "*   Create Directory for Each Category in Train/Validation/Test Directory\n",
        "\n"
      ]
    },
    {
      "cell_type": "code",
      "metadata": {
        "id": "zgJ3uSufLWvk"
      },
      "source": [
        "categories = dx.index.values\n",
        "for category in categories:\n",
        "    os.mkdir(os.path.join(train_dir, category))\n",
        "    os.mkdir(os.path.join(val_dir, category))\n",
        "    os.mkdir(os.path.join(test_dir, category))"
      ],
      "execution_count": null,
      "outputs": []
    },
    {
      "cell_type": "markdown",
      "metadata": {
        "id": "koi4AYfgO3AB"
      },
      "source": [
        "\n",
        "*   Split to Train and Validation Set"
      ]
    },
    {
      "cell_type": "code",
      "metadata": {
        "id": "_fYoxgS7O1vo"
      },
      "source": [
        "from sklearn.model_selection import train_test_split\n",
        "df_train, df_tmp = train_test_split(df, test_size = 0.2, random_state = 101, stratify = df['dx'])\n",
        "df_val, df_test = train_test_split(df_tmp, test_size = 0.5, random_state = 101)\n",
        "print(df_train.shape)\n",
        "print(df_val.shape)\n",
        "print(df_test.shape)"
      ],
      "execution_count": null,
      "outputs": []
    },
    {
      "cell_type": "code",
      "metadata": {
        "id": "9_t4NgOWQJ8h"
      },
      "source": [
        "# image_id as df index\n",
        "df_train = df_train.set_index('image_id')\n",
        "df_val   = df_val.set_index('image_id')\n",
        "df_test  = df_test.set_index('image_id')"
      ],
      "execution_count": null,
      "outputs": []
    },
    {
      "cell_type": "code",
      "metadata": {
        "id": "6cxCCM00fZup"
      },
      "source": [
        "folder_1 = os.listdir('/content/gdrive/MyDrive/.....') #part 1, dilengkapi\n",
        "folder_2 = os.listdir('/content/gdrive/MyDrive/.....') #part 2, dilengkapi\n",
        "\n",
        "def copy_files(df, data_dir):\n",
        "  fileList = df.index.values\n",
        "\n",
        "  for file in fileList:\n",
        "    fname = file + '.jpg'\n",
        "    label = df.loc[file, 'dx']\n",
        "\n",
        "    if fname in folder_1:\n",
        "      src = os.path.join('/content/gdrive/MyDrive/....', fname) #dilengkapi\n",
        "      dst = os.path.join(data_dir, label, fname)\n",
        "      shutil.copyfile(src, dst)\n",
        "\n",
        "    if fname in folder_2\n",
        "      src = os.path.join('/content/gdrive/MyDrive/....', fname) #dilengkapi\n",
        "      dst = os.path.join(data_dir, label, fname)\n",
        "      shutil.copyfile(src, dst)"
      ],
      "execution_count": null,
      "outputs": []
    },
    {
      "cell_type": "markdown",
      "metadata": {
        "id": "YE18T5u-huMp"
      },
      "source": [
        "Alternative 1"
      ]
    },
    {
      "cell_type": "code",
      "metadata": {
        "id": "AJHChZCDhxy6"
      },
      "source": [
        "copy_files(df_train, train_dir)\n",
        "copy_files(df_val, val_dir)\n",
        "copy_files(df_test, test_dir)"
      ],
      "execution_count": null,
      "outputs": []
    },
    {
      "cell_type": "code",
      "metadata": {
        "id": "b5LksmqyifQ5"
      },
      "source": [
        "from shutil import make_archive\n",
        "shutil.make_archive('data', 'zip', root_dir='/content/data')"
      ],
      "execution_count": null,
      "outputs": []
    },
    {
      "cell_type": "code",
      "metadata": {
        "id": "DSjxH7NfiuBk"
      },
      "source": [
        "from google.colab import files\n",
        "files.download('/content/data.zip')"
      ],
      "execution_count": null,
      "outputs": []
    },
    {
      "cell_type": "markdown",
      "metadata": {
        "id": "Vh9k5uxSja2G"
      },
      "source": [
        "Alternative 2 after\n",
        "- We download data.zip and we can access from Gdrive"
      ]
    },
    {
      "cell_type": "code",
      "metadata": {
        "id": "5-9TCOO8kNgC"
      },
      "source": [
        "train_dir = pathlib.Path(\"/content/gdrive/My Drive/.....\") #dilengkapi\n",
        "val_dir = pathlib.Path(\"/content/gdrive/My Drive/.....\") #dilengkapi\n",
        "test_dir = pathlib.Path(\"/content/gdrive/My Drive/.....\") #dilengkapi"
      ],
      "execution_count": null,
      "outputs": []
    },
    {
      "cell_type": "code",
      "metadata": {
        "id": "K2-Tu4wgmMV3"
      },
      "source": [
        "df_train['dx'].value_counts()"
      ],
      "execution_count": null,
      "outputs": []
    },
    {
      "cell_type": "code",
      "metadata": {
        "id": "IDNml241mVQ_"
      },
      "source": [
        "df_val['dx'].value_counts()"
      ],
      "execution_count": null,
      "outputs": []
    },
    {
      "cell_type": "code",
      "metadata": {
        "id": "Oe5tPu9BmaJ7"
      },
      "source": [
        "df_test['dx'].value_count()"
      ],
      "execution_count": null,
      "outputs": []
    },
    {
      "cell_type": "code",
      "metadata": {
        "id": "2rCgmHmQmf7Z"
      },
      "source": [
        "print(len(os.listdir('/content/data/train/akiec')))\n",
        "print(len(os.listdir('/content/data/train/bcc')))\n",
        "print(len(os.listdir('/content/data/train/bkl')))\n",
        "print(len(os.listdir('/content/data/train/df')))\n",
        "print(len(os.listdir('/content/data/train/mel')))\n",
        "print(len(os.listdir('/content/data/train/nv')))\n",
        "print(len(os.listdir('/content/data/train/vasc')))"
      ],
      "execution_count": null,
      "outputs": []
    },
    {
      "cell_type": "code",
      "metadata": {
        "id": "WktlnvsinDZi"
      },
      "source": [
        "print(len(os.listdir('/content/data/train/akiec')))\n",
        "print(len(os.listdir('/content/data/train/bcc')))\n",
        "print(len(os.listdir('/content/data/train/bkl')))\n",
        "print(len(os.listdir('/content/data/train/df')))\n",
        "print(len(os.listdir('/content/data/train/mel')))\n",
        "print(len(os.listdir('/content/data/train/nv')))\n",
        "print(len(os.listdir('/content/data/train/vasc')))"
      ],
      "execution_count": null,
      "outputs": []
    },
    {
      "cell_type": "code",
      "metadata": {
        "id": "D67tCyc8nEvi"
      },
      "source": [
        "print(len(os.listdir('/content/data/train/akiec')))\n",
        "print(len(os.listdir('/content/data/train/bcc')))\n",
        "print(len(os.listdir('/content/data/train/bkl')))\n",
        "print(len(os.listdir('/content/data/train/df')))\n",
        "print(len(os.listdir('/content/data/train/mel')))\n",
        "print(len(os.listdir('/content/data/train/nv')))\n",
        "print(len(os.listdir('/content/data/train/vasc')))"
      ],
      "execution_count": null,
      "outputs": []
    },
    {
      "cell_type": "code",
      "metadata": {
        "id": "q5-3pylCnJ8i"
      },
      "source": [
        "print(len(os.listdir('/content/gdrive/My Drive/project_mbkmriset/dataset/train_1/akiec')))\n",
        "print(len(os.listdir('/content/gdrive/My Drive/project_mbkmriset/dataset/train_1/kcc')))\n",
        "print(len(os.listdir('/content/gdrive/My Drive/project_mbkmriset/dataset/train_1/bkl')))\n",
        "print(len(os.listdir('/content/gdrive/My Drive/project_mbkmriset/dataset/train_1/df')))\n",
        "print(len(os.listdir('/content/gdrive/My Drive/project_mbkmriset/dataset/train_1/mel')))\n",
        "print(len(os.listdir('/content/gdrive/My Drive/project_mbkmriset/dataset/train_1/nv')))\n",
        "print(len(os.listdir('/content/gdrive/My Drive/project_mbkmriset/dataset/train_1/vasc')))"
      ],
      "execution_count": null,
      "outputs": []
    },
    {
      "cell_type": "code",
      "metadata": {
        "id": "jI4aN1GYn7dG"
      },
      "source": [
        "print(len(os.listdir('/content/gdrive/My Drive/project_mbkmriset/dataset/val_1/akiec')))\n",
        "print(len(os.listdir('/content/gdrive/My Drive/project_mbkmriset/dataset/val_1/kcc')))\n",
        "print(len(os.listdir('/content/gdrive/My Drive/project_mbkmriset/dataset/val_1/bkl')))\n",
        "print(len(os.listdir('/content/gdrive/My Drive/project_mbkmriset/dataset/val_1/df')))\n",
        "print(len(os.listdir('/content/gdrive/My Drive/project_mbkmriset/dataset/val_1/mel')))\n",
        "print(len(os.listdir('/content/gdrive/My Drive/project_mbkmriset/dataset/val_1/nv')))\n",
        "print(len(os.listdir('/content/gdrive/My Drive/project_mbkmriset/dataset/val_1/vasc')))"
      ],
      "execution_count": null,
      "outputs": []
    },
    {
      "cell_type": "code",
      "metadata": {
        "id": "iX4UzCn_oEUS"
      },
      "source": [
        "print(len(os.listdir('/content/gdrive/My Drive/project_mbkmriset/dataset/test_1/akiec')))\n",
        "print(len(os.listdir('/content/gdrive/My Drive/project_mbkmriset/dataset/test_1/kcc')))\n",
        "print(len(os.listdir('/content/gdrive/My Drive/project_mbkmriset/dataset/test_1/bkl')))\n",
        "print(len(os.listdir('/content/gdrive/My Drive/project_mbkmriset/dataset/test_1/df')))\n",
        "print(len(os.listdir('/content/gdrive/My Drive/project_mbkmriset/dataset/test_1/mel')))\n",
        "print(len(os.listdir('/content/gdrive/My Drive/project_mbkmriset/dataset/test_1/nv')))\n",
        "print(len(os.listdir('/content/gdrive/My Drive/project_mbkmriset/dataset/test_1/vasc')))"
      ],
      "execution_count": null,
      "outputs": []
    },
    {
      "cell_type": "markdown",
      "metadata": {
        "id": "OeqhFRrhp5Ap"
      },
      "source": [
        "\n",
        "*   Data Augmentation and Flow Data\n",
        "\n"
      ]
    },
    {
      "cell_type": "code",
      "metadata": {
        "id": "aJdgJpksqUAK"
      },
      "source": [
        "train_datagen = ImageDataGenerator(rescale = 1./255,\n",
        "                                   horizontal_flip = True,\n",
        "                                   vertical_flip = True,\n",
        "                                   rotation_range = 20,\n",
        "                                   width_shift_range = 0.2,\n",
        "                                   height_shift_range = 0.2,\n",
        "                                   shear_range = 0.2,\n",
        "                                   zoom_range = 0.2)\n",
        "\n",
        "train_generator = train_datagen.flow_from_directory('/content/data/train',\n",
        "                                                    target_size = (224, 224),\n",
        "                                                    batch_size = 20,\n",
        "                                                    color_mode = 'rgb',\n",
        "                                                    shuffle = True,\n",
        "                                                    seed = 42,\n",
        "                                                    class_mode = 'categorical')"
      ],
      "execution_count": null,
      "outputs": []
    },
    {
      "cell_type": "code",
      "metadata": {
        "id": "2slZ3VNJriuy"
      },
      "source": [
        "validation_datagen = ImageDataGenerator(rescale = 1./255,\n",
        "                                        horizontal_flip = True,\n",
        "                                        vertical_flip = True,\n",
        "                                        rotation_range = 20,\n",
        "                                        width_shift_range = 0.2,\n",
        "                                        height_shift_range = 0.2,\n",
        "                                        shear_range = 0.2,\n",
        "                                        zoom_range = 0.2)\n",
        "\n",
        "validation_generator = train_datagen.flow_from_directory('/content/data/val',\n",
        "                                                         target_size = (224, 224),\n",
        "                                                         batch_size = 20,\n",
        "                                                         color_mode = 'rgb',\n",
        "                                                         shuffle = False,\n",
        "                                                         seed = 42,\n",
        "                                                         class_mode = 'categorical')"
      ],
      "execution_count": null,
      "outputs": []
    },
    {
      "cell_type": "code",
      "metadata": {
        "id": "D9UwRFicsi-4"
      },
      "source": [
        "test_datagen = ImageDataGenerator(rescale = 1./255)\n",
        "\n",
        "test_generator = train_datagen.flow_from_directory('/content/data/test',\n",
        "                                                   target_size = (224, 224),\n",
        "                                                   batch_size = 20,\n",
        "                                                   color_mode = 'rgb',\n",
        "                                                   shuffle = False,\n",
        "                                                   seed = 42,\n",
        "                                                   class_mode = 'categorical')"
      ],
      "execution_count": null,
      "outputs": []
    },
    {
      "cell_type": "markdown",
      "metadata": {
        "id": "0vv9UrcM_9nO"
      },
      "source": [
        "\n",
        "*   Visualize the Data\n",
        "\n"
      ]
    },
    {
      "cell_type": "code",
      "metadata": {
        "id": "0c0brjQcAFuI"
      },
      "source": [
        "for image_batch, labels_batch in train_generator:\n",
        "  print(image_batch.shape)\n",
        "  print(labels_batch.shape)\n",
        "  break"
      ],
      "execution_count": null,
      "outputs": []
    },
    {
      "cell_type": "markdown",
      "metadata": {
        "id": "f-CDO4cTTp93"
      },
      "source": [
        "# Build Model #"
      ]
    },
    {
      "cell_type": "markdown",
      "metadata": {
        "id": "WNUOaFRtAW-z"
      },
      "source": [
        "Manually Define CNN"
      ]
    },
    {
      "cell_type": "code",
      "metadata": {
        "id": "G-v7WzpWAaB8"
      },
      "source": [
        "input_shape = (224, 224, 3)\n",
        "num_classes = 7"
      ],
      "execution_count": null,
      "outputs": []
    },
    {
      "cell_type": "code",
      "metadata": {
        "id": "vK4jTcHHTuK7"
      },
      "source": [
        "model = Sequential([\n",
        "                    Conv2D(32, 3, padding = 'same', activation = 'relu', input_shape = input_shape),\n",
        "                    Conv2D(32, 3, padding = 'same', activation = 'relu'),\n",
        "                    MaxPooling2D(),\n",
        "\n",
        "                    Dropout(0.25),\n",
        "\n",
        "                    Conv2D(64, 3, padding = 'same', activation = 'relu', input_shape = input_shape),\n",
        "                    Conv2D(64, 3, padding = 'same', activation = 'relu'),\n",
        "                    MaxPooling2D(),\n",
        "\n",
        "                    Dropout(0.4),\n",
        "\n",
        "                    Conv2D(128, 3, padding = 'same', activation = 'relu'),\n",
        "                    MaxPooling2D(),\n",
        "\n",
        "                    Dropout(0.5),\n",
        "\n",
        "                    Flatten(),\n",
        "                    Dense(128, activation = 'relu'),\n",
        "\n",
        "                    Dropout(0.55),\n",
        "\n",
        "                    Dense(7, activation = 'softmax')])\n",
        "\n",
        "print('Compiling Model..............')\n",
        "model.compile(optimizer='adam',\n",
        "              loss = 'categorical_crossentropy',\n",
        "              metrics = ['accuracy'])"
      ],
      "execution_count": null,
      "outputs": []
    },
    {
      "cell_type": "code",
      "metadata": {
        "id": "6J9reJ6dDE92"
      },
      "source": [
        "model.summary()"
      ],
      "execution_count": null,
      "outputs": []
    },
    {
      "cell_type": "markdown",
      "metadata": {
        "id": "ei9t2YnDDLM_"
      },
      "source": [
        "\n",
        "*   **Build Base Model**\n",
        "\n"
      ]
    },
    {
      "cell_type": "code",
      "metadata": {
        "id": "sLyYHj-HDHT1"
      },
      "source": [
        "base_model= MobileNetV2(input_shape = input_shape,\n",
        "                        weights = 'imagenet',\n",
        "                        include_top = False,\n",
        "                        classes = num_classes)"
      ],
      "execution_count": null,
      "outputs": []
    },
    {
      "cell_type": "code",
      "metadata": {
        "id": "G_Av9OoGDjLA"
      },
      "source": [
        "for layer in base_model.layers:\n",
        "    layer.trainable = False"
      ],
      "execution_count": null,
      "outputs": []
    },
    {
      "cell_type": "markdown",
      "metadata": {
        "id": "CKYxcDp7DtxJ"
      },
      "source": [
        "\n",
        "\n",
        "*   Add Top Layers Network\n",
        "\n"
      ]
    },
    {
      "cell_type": "code",
      "metadata": {
        "id": "hitCMQymLmyY"
      },
      "source": [
        "model = base_model.output\n",
        "model = Dropout(0.5)(model)\n",
        "model = GlobalAveragePooling2D()(model)\n",
        "model = Dense(256, activation=\"relu\")(model)\n",
        "model = Dense(128, activation=\"relu\")(model)\n",
        "model = BatchNormalization()(model)\n",
        "\n",
        "predicitions = Dense(num_classes, activation='softmax')(model)\n",
        "\n",
        "model = Model(inputs = base_model.input,outputs = predictions)\n",
        "\n",
        "base_model.trainable = False"
      ],
      "execution_count": null,
      "outputs": []
    },
    {
      "cell_type": "code",
      "metadata": {
        "id": "FZm7zPA8rCCl"
      },
      "source": [
        "model.summary()"
      ],
      "execution_count": null,
      "outputs": []
    },
    {
      "cell_type": "markdown",
      "metadata": {
        "id": "44LgeBsirIu7"
      },
      "source": [
        "\n",
        "\n",
        "*   Compile Model\n",
        "\n"
      ]
    },
    {
      "cell_type": "code",
      "metadata": {
        "id": "5VAog3HgrMn1"
      },
      "source": [
        "print('Compiling Model..........')\n",
        "\n",
        "# Compile the model\n",
        "model.compile(optimizer = 'adam',\n",
        "              loss = \"categorical_crossentropy\",\n",
        "              metrics = [\"accuracy\"])"
      ],
      "execution_count": null,
      "outputs": []
    },
    {
      "cell_type": "markdown",
      "metadata": {
        "id": "w14obXYRuF4S"
      },
      "source": [
        "\n",
        "*   Visualization Models"
      ]
    },
    {
      "cell_type": "code",
      "metadata": {
        "id": "zLSkLL35uZsH"
      },
      "source": [
        "model_visual = tf.keras.utils.plot_model(model,\n",
        "                                         to_file = 'model_visualization.png',\n",
        "                                         show_shapes = True,\n",
        "                                         show_layer_names = True,\n",
        "                                         rankdir = 'TB',\n",
        "                                         expand_nested = True,\n",
        "                                         dpi = 55)\n",
        "model_visual"
      ],
      "execution_count": null,
      "outputs": []
    },
    {
      "cell_type": "markdown",
      "metadata": {
        "id": "qxPqlti4vUyz"
      },
      "source": [
        "\n",
        "*   Training the Model"
      ]
    },
    {
      "cell_type": "code",
      "metadata": {
        "id": "8kW7UPfcvdj8"
      },
      "source": [
        "import numpy as np\n",
        "import math\n",
        "\n",
        "# labels_dict : {ind_label: count_label}\n",
        "# mu : parameter to true\n",
        "\n",
        "def create_class_weight(labels_dict,mu=0.15):\n",
        "    total = np.sum(list(labels_dict.values()))\n",
        "    keys = labels_dict.keys()\n",
        "    class_weight = dict()\n",
        "\n",
        "    for key in keys:\n",
        "      score = math.log(mu*total/float(labels_dict[key]))\n",
        "      class_weight[key] = score if score > 1.0 else 1.0\n",
        "\n",
        "    return class_weight\n",
        "\n",
        "    #random labels_dict\n",
        "    labels_dict = {: 327, 1: 514, 2: 1099, 3: 115, 4: 1113, 5: 6705, 6: 142}\n",
        "\n",
        "    create_class_weight(labels_dict)"
      ],
      "execution_count": null,
      "outputs": []
    },
    {
      "cell_type": "code",
      "metadata": {
        "id": "Utz7MDKSy-lW"
      },
      "source": [
        "class_weight = {0 : ........,\n",
        "                1 : ........,\n",
        "                2 : ........,\n",
        "                3 : ........,\n",
        "                4 : ........,\n",
        "                5 : ........,\n",
        "                6 : ........,}\n",
        "\n",
        "#0 : akiec\n",
        "#1 : bcc\n",
        "#2 : bk;\n",
        "#3 : df\n",
        "#4 : mel\n",
        "#5 : nv\n",
        "#6 : vasc"
      ],
      "execution_count": null,
      "outputs": []
    },
    {
      "cell_type": "code",
      "metadata": {
        "id": "o8UCAq6_2A3t"
      },
      "source": [
        "history = model.fit_generator(train_generator,\n",
        "                              class_weight = class_weight,\n",
        "                              steps_per_epoch = len(train_generator),\n",
        "                              epoch 100,\n",
        "                              validation_data = validation_generator,\n",
        "                              validation_steps = len(validation_generator),\n",
        "                              verbose = 1)"
      ],
      "execution_count": null,
      "outputs": []
    },
    {
      "cell_type": "markdown",
      "metadata": {
        "id": "i0LB-dr4c17h"
      },
      "source": [
        "Plot the Model Training"
      ]
    },
    {
      "cell_type": "code",
      "metadata": {
        "id": "D2QF9Dc39-Ot"
      },
      "source": [
        "#------------------------------------------------\n",
        "# Evaluating acc and loss for model\n",
        "#------------------------------------------------\n",
        "# Plot training and validation accuracy per epoch\n",
        "#------------------------------------------------\n",
        "\n",
        "plt.plot(history.history['accuracy'], label = 'Training Accuracy' )\n",
        "plt.plot(history.history['val_accuracy'], label = 'Validation Accuracy' )\n",
        "plt.title('Tranining and validation accuracy')\n",
        "plt.xlabel('Number of Epoch')\n",
        "plt.ylabel('Value')\n",
        "plt.legend(loc='lower right')\n",
        "plt.show"
      ],
      "execution_count": null,
      "outputs": []
    },
    {
      "cell_type": "code",
      "metadata": {
        "id": "ktoCpXc4z5nq"
      },
      "source": [
        "#------------------------------------------------\n",
        "# Plot training and validation loss per epoch\n",
        "#------------------------------------------------\n",
        "\n"
      ],
      "execution_count": null,
      "outputs": []
    }
  ]
}